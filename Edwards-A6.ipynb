{
 "cells": [
  {
   "cell_type": "markdown",
   "metadata": {},
   "source": [
    "$\\newcommand{\\xv}{\\mathbf{x}}\n",
    "\\newcommand{\\Xv}{\\mathbf{X}}\n",
    "\\newcommand{\\yv}{\\mathbf{y}}\n",
    "\\newcommand{\\zv}{\\mathbf{z}}\n",
    "\\newcommand{\\av}{\\mathbf{a}}\n",
    "\\newcommand{\\Wv}{\\mathbf{W}}\n",
    "\\newcommand{\\wv}{\\mathbf{w}}\n",
    "\\newcommand{\\tv}{\\mathbf{t}}\n",
    "\\newcommand{\\Tv}{\\mathbf{T}}\n",
    "\\newcommand{\\muv}{\\boldsymbol{\\mu}}\n",
    "\\newcommand{\\sigmav}{\\boldsymbol{\\sigma}}\n",
    "\\newcommand{\\phiv}{\\boldsymbol{\\phi}}\n",
    "\\newcommand{\\Phiv}{\\boldsymbol{\\Phi}}\n",
    "\\newcommand{\\Sigmav}{\\boldsymbol{\\Sigma}}\n",
    "\\newcommand{\\Lambdav}{\\boldsymbol{\\Lambda}}\n",
    "\\newcommand{\\half}{\\frac{1}{2}}\n",
    "\\newcommand{\\argmax}[1]{\\underset{#1}{\\operatorname{argmax}}}\n",
    "\\newcommand{\\argmin}[1]{\\underset{#1}{\\operatorname{argmin}}}$"
   ]
  },
  {
   "cell_type": "markdown",
   "metadata": {},
   "source": [
    "# Assignment 6: Neural Networks"
   ]
  },
  {
   "cell_type": "markdown",
   "metadata": {},
   "source": [
    "*Type your name here and rewrite all of the following sections.  Add more sections to present your code, results, and discussions.*"
   ]
  },
  {
   "cell_type": "markdown",
   "metadata": {},
   "source": [
    "## Overview"
   ]
  },
  {
   "cell_type": "markdown",
   "metadata": {},
   "source": [
    "You will write and apply code that trains neural networks of various numbers of hidden layers and units in each hidden layer and returns results as specified below.  You will do this once for a regression problem and once for a classification problem. "
   ]
  },
  {
   "cell_type": "markdown",
   "metadata": {},
   "source": [
    "## Required Code"
   ]
  },
  {
   "cell_type": "markdown",
   "metadata": {},
   "source": [
    "Hardest part: reading in the file?\n",
    "\n",
    "Download [nn2.tar](http://www.cs.colostate.edu/~anderson/cs440/notebooks/nn2.tar) that was used in lecture and extract its contents, which are\n",
    "\n",
    "* `neuralnetworks.py`\n",
    "* `scaledconjugategradient.py`\n",
    "* `mlutils.py`"
   ]
  },
  {
   "cell_type": "markdown",
   "metadata": {},
   "source": [
    "Write the following functions that train and evaluate neural network models.\n",
    "\n",
    "* `results = trainNNs(X, T, trainFraction, hiddenLayerStructures, numberRepetitions, numberIterations, classify)`\n",
    "\n",
    "The arguments to `trainNNs` are\n",
    "\n",
    "* `X` is a matrix of input data of shape `nSamples x nFeatures`\n",
    "* `T` is a matrix of target data of shape `nSamples x nOutputs`\n",
    "* `trainFraction` is fraction of samples to use as training data. 1-`trainFraction` is number of samples for testing data\n",
    "* `hiddenLayerStructures` is list of network architectures. For example, to test two networks, one with one hidden layer of 20 units, and one with 3 hidden layers with 5, 10, and 20 units in each layer, this argument would be `[[20], [5, 10, 20]]`.\n",
    "* `numberRepetitions` is number of times to train a neural network.  Calculate training and testing average performance (two separate averages) of this many training runs.\n",
    "* `numberIterations` is the number of iterations to run the scaled conjugate gradient algorithm when a neural network is trained.\n",
    "* `classify` is set to `True` if you are doing a classification problem, in which case `T` must be a single column of target class integers.\n",
    "\n",
    "This function returns `results` which is list with one element for each network structure tested.  Each element is a list containing \n",
    "\n",
    "* the hidden layer structure (as a list),\n",
    "* a list of training data performance for each repetition, \n",
    "* a list of testing data performance for each repetition, and\n",
    "* the number of seconds it took to run this many repetitions for this network structure.\n",
    "\n",
    "This function should follow these steps:\n",
    "\n",
    "  * For each network structure given in `hiddenLayerStructures`\n",
    "    * For numberRepetitions\n",
    "      * Use `ml.partition` to randomly partition X and T into training and testing sets.\n",
    "      * Create a neural network of the given structure\n",
    "      * Train it for numberIterations\n",
    "      * Use the trained network to produce outputs for the training and for the testing sets\n",
    "      * If classifying, calculate the fraction of samples incorrectly classified for training and testing sets.\n",
    "       Otherwise, calculate the RMSE of training and testing sets.\n",
    "      * Add the training and testing performance to a collection (such as a list) for this network structure\n",
    "    * Add to a collection of all results the hidden layer structure, lists of training performance and testing performance, and seconds taken to do these repetitions.\n",
    "  * return the collection of all results"
   ]
  },
  {
   "cell_type": "markdown",
   "metadata": {},
   "source": [
    "Also write the following two functions. `summarize(results)` returns a list of lists like `results` but with the list of training performances replaced by their mean and the list of testing performances replaced by their mean.   \n",
    "`bestNetwork(summary)` takes the output of `summarize(results)` and returns the best element of `results`, determined by the element that has the smallest test performance.\n",
    "\n",
    "* `summary = summarize(results)` where `results` is returned by `trainNNs` and `summary` is like `results` with the training and testing performance lists replaced by their means\n",
    "* `best = bestNetwork(summary)` where `summary` is returned by `summarize` and `best` is the best element of `summary`"
   ]
  },
  {
   "cell_type": "code",
   "execution_count": 25,
   "metadata": {},
   "outputs": [],
   "source": [
    "def trainNNs(X, T, trainFraction, hiddenLayerStructures, numberRepetitions, numberIterations, classify=False):\n",
    "\n",
    "    import numpy as np\n",
    "    import neuralnetworks as nn\n",
    "    import time\n",
    "    import mlutils as ml\n",
    "\n",
    "    results = []\n",
    "\n",
    "    # debugging\n",
    "    verbose = True\n",
    "\n",
    "    for structure in hiddenLayerStructures:\n",
    "        trainList = []\n",
    "        testList = []\n",
    "        t0 = time.time()\n",
    "        for i in range(numberRepetitions):\n",
    "            Xtrain, Ttrain, Xtest, Ttest = ml.partition(X, T, (trainFraction, 1 - trainFraction),\n",
    "                                                        classification=classify)\n",
    "            if classify:\n",
    "                nnet = nn.NeuralNetworkClassifier(X.shape[1],structure,len(np.unique(T)))\n",
    "            else:\n",
    "                nnet = nn.NeuralNetwork(X.shape[1],structure,T.shape[1])\n",
    "\n",
    "            nnet.train(Xtrain, Ttrain, numberIterations)\n",
    "\n",
    "            Ytrain = nnet.use(Xtrain)\n",
    "\n",
    "            Ytest = nnet.use(Xtest)\n",
    "\n",
    "            trainList.append(np.sqrt(np.mean((Ytrain - Ttrain ) ** 2)))\n",
    "            testList.append(np.sqrt(np.mean((Ytest - Ttest) ** 2)))\n",
    "\n",
    "        timeTaken = time.time() - t0\n",
    "        results.append([structure, trainList, testList, timeTaken])\n",
    "    return results\n"
   ]
  },
  {
   "cell_type": "code",
   "execution_count": 2,
   "metadata": {},
   "outputs": [],
   "source": [
    "def summarize(results):\n",
    "    import numpy as np\n",
    "    summary = []\n",
    "    for item in results:\n",
    "        summary.append([item[0], np.mean(item[1]), np.mean(item[2]), item[3]])\n",
    "\n",
    "    return summary\n"
   ]
  },
  {
   "cell_type": "code",
   "execution_count": 3,
   "metadata": {},
   "outputs": [],
   "source": [
    "def bestNetwork(summary):\n",
    "    return min(summary, key = lambda x: x[2])"
   ]
  },
  {
   "cell_type": "markdown",
   "metadata": {},
   "source": [
    "## Examples\n"
   ]
  },
  {
   "cell_type": "code",
   "execution_count": 10,
   "metadata": {},
   "outputs": [],
   "source": [
    "import neuralnetworks as nn\n",
    "import numpy as np\n",
    "import matplotlib.pyplot as plt"
   ]
  },
  {
   "cell_type": "code",
   "execution_count": 11,
   "metadata": {},
   "outputs": [],
   "source": [
    "\n",
    "X = np.arange(10).reshape((-1,1))\n",
    "T = X + 1 + np.random.uniform(-1, 1, ((10,1)))"
   ]
  },
  {
   "cell_type": "code",
   "execution_count": 12,
   "metadata": {},
   "outputs": [],
   "source": [
    "%matplotlib inline"
   ]
  },
  {
   "cell_type": "code",
   "execution_count": 13,
   "metadata": {},
   "outputs": [
    {
     "data": {
      "image/png": "[encoded data removed]",
      "text/plain": [
       "<matplotlib.figure.Figure at 0x1131230b8>"
      ]
     },
     "metadata": {},
     "output_type": "display_data"
    }
   ],
   "source": [
    "plt.plot(X, T, 'o-');"
   ]
  },
  {
   "cell_type": "code",
   "execution_count": 14,
   "metadata": {},
   "outputs": [
    {
     "data": {
      "text/plain": [
       "array([ 0.70710678,  0.48360124,  0.48360124,  0.48360124,  0.48360124,\n",
       "        0.48360124,  0.48360124,  0.48360124,  0.48360124,  0.48229171,\n",
       "        0.22363819,  0.2063259 ,  0.16479444,  0.10644768,  0.09170912,\n",
       "        0.08852471,  0.08166656,  0.07214999,  0.07056795,  0.07014959,\n",
       "        0.06735603,  0.06628282,  0.06606022,  0.06393851,  0.06361482,\n",
       "        0.06361482,  0.06361482,  0.06361482,  0.06361482,  0.06361482,\n",
       "        0.06361482,  0.06255735,  0.06255342,  0.05828086,  0.05782194,\n",
       "        0.05777197,  0.05756542,  0.05642239,  0.05604352,  0.05446032,\n",
       "        0.05321085,  0.05146344,  0.04923243,  0.04890944,  0.04807087,\n",
       "        0.04763086,  0.04718163,  0.04650086,  0.0460388 ,  0.0455592 ,\n",
       "        0.04543591,  0.04525904,  0.04439656,  0.03837965,  0.03781681,\n",
       "        0.0373797 ,  0.03732947,  0.03725089,  0.03722213,  0.03715998,\n",
       "        0.03715968,  0.03715882,  0.03715704,  0.03715533,  0.03715457,\n",
       "        0.03715431,  0.0371294 ,  0.03712781,  0.03711797,  0.037096  ,\n",
       "        0.03709577,  0.03709046,  0.03708758,  0.03708109,  0.03707987,\n",
       "        0.03706152,  0.03706142,  0.03706136,  0.03705801,  0.0370555 ,\n",
       "        0.03704898,  0.03703769,  0.03703231,  0.0370303 ,  0.03702878,\n",
       "        0.03702666,  0.03702517,  0.03701512,  0.03700722,  0.03699257,\n",
       "        0.03698631,  0.03698623,  0.03696639,  0.03696359,  0.03695985,\n",
       "        0.03695605,  0.03694941,  0.03694341,  0.0369414 ,  0.0369404 ,\n",
       "        0.03693995])"
      ]
     },
     "execution_count": 14,
     "metadata": {},
     "output_type": "execute_result"
    }
   ],
   "source": [
    "nnet = nn.NeuralNetwork(X.shape[1], 2, T.shape[1])\n",
    "nnet.train(X, T, 100)\n",
    "nnet.getErrorTrace()"
   ]
  },
  {
   "cell_type": "code",
   "execution_count": 15,
   "metadata": {},
   "outputs": [
    {
     "data": {
      "text/plain": [
       "array([ 0.70710678,  0.48370618,  0.48370618,  0.3785611 ,  0.16552616,\n",
       "        0.07503992,  0.07250574,  0.07179165,  0.06770754,  0.06534383,\n",
       "        0.06506141,  0.06504747,  0.06345983,  0.06345983,  0.06310511,\n",
       "        0.06070947,  0.05974578,  0.05906031,  0.05873469,  0.05867547,\n",
       "        0.05859632,  0.05859632,  0.05859632,  0.05859632,  0.05859632,\n",
       "        0.05727442,  0.05621771,  0.05390296,  0.05361533,  0.05354437,\n",
       "        0.05351803,  0.05264602,  0.05248514,  0.04963301,  0.04953773,\n",
       "        0.04746771,  0.04727887,  0.04722391,  0.04668953,  0.04550834,\n",
       "        0.04496716,  0.04492497,  0.04403993,  0.0440026 ,  0.04388541,\n",
       "        0.04388541,  0.04388541,  0.04388541,  0.04388541,  0.04388541,\n",
       "        0.04388541,  0.04388541,  0.04388541,  0.03994292,  0.03992058,\n",
       "        0.03828309,  0.03818216,  0.03800841,  0.0376424 ,  0.03763428,\n",
       "        0.03763044,  0.03751901,  0.03749401,  0.03748714,  0.03744853,\n",
       "        0.03743306,  0.0374297 ,  0.03739185,  0.03720754,  0.037196  ,\n",
       "        0.03717384,  0.03711509,  0.03711392,  0.03711137,  0.03705675,\n",
       "        0.0370436 ,  0.03704234,  0.0370417 ,  0.03701481,  0.03696486,\n",
       "        0.03695872,  0.03695686,  0.03691423,  0.03683037,  0.03678078,\n",
       "        0.03676737,  0.03667422,  0.03667365,  0.03666637,  0.03664916,\n",
       "        0.03664753,  0.0366462 ,  0.03664345,  0.03664047,  0.03659465,\n",
       "        0.0365937 ,  0.03657981,  0.03638987,  0.03625216,  0.03623487,\n",
       "        0.03619083])"
      ]
     },
     "execution_count": 15,
     "metadata": {},
     "output_type": "execute_result"
    }
   ],
   "source": [
    "nnet = nn.NeuralNetwork(X.shape[1], [5, 5, 5], T.shape[1])\n",
    "nnet.train(X, T, 100)\n",
    "nnet.getErrorTrace()"
   ]
  },
  {
   "cell_type": "code",
   "execution_count": 16,
   "metadata": {},
   "outputs": [
    {
     "data": {
      "text/plain": [
       "[[2,\n",
       "  [0.10299358161148554,\n",
       "   0.25520364208385116,\n",
       "   0.27908556578890537,\n",
       "   0.25501879540794187,\n",
       "   0.13432652022808453],\n",
       "  [0.38971225832397677,\n",
       "   0.40350125049877944,\n",
       "   0.52508227400286378,\n",
       "   0.40340092266281158,\n",
       "   0.4277277545307544],\n",
       "  0.10951972007751465],\n",
       " [10,\n",
       "  [0.16045410762496362,\n",
       "   0.15923499534917585,\n",
       "   0.1638151942954203,\n",
       "   0.15142641482093019,\n",
       "   0.14706175356322337],\n",
       "  [0.29718664675907452,\n",
       "   0.20199725894418549,\n",
       "   0.13587093176039486,\n",
       "   0.19944926105852065,\n",
       "   0.2674790571495696],\n",
       "  0.09979796409606934],\n",
       " [[10, 10],\n",
       "  [0.11010847104084988,\n",
       "   0.15558385930271887,\n",
       "   0.14803341274192947,\n",
       "   0.14218710779447263,\n",
       "   0.15982068190208304],\n",
       "  [0.42677539647555712,\n",
       "   0.49604743815011298,\n",
       "   0.43857761247245503,\n",
       "   0.2979066352956225,\n",
       "   0.54928760825417866],\n",
       "  0.1345219612121582]]"
      ]
     },
     "execution_count": 16,
     "metadata": {},
     "output_type": "execute_result"
    }
   ],
   "source": [
    "results = trainNNs(X, T, 0.8, [2, 10, [10, 10]], 5, 100, classify=False)\n",
    "results"
   ]
  },
  {
   "cell_type": "code",
   "execution_count": 17,
   "metadata": {},
   "outputs": [],
   "source": [
    "results = trainNNs(X, T, 0.8, [0, 1, 2, 10, [10, 10], [5, 5, 5, 5], [2]*5], 50, 400, classify=False)"
   ]
  },
  {
   "cell_type": "code",
   "execution_count": 20,
   "metadata": {},
   "outputs": [
    {
     "data": {
      "text/plain": [
       "[[0, 0.37332725404577355, 0.48226201944539476, 0.03167104721069336],\n",
       " [1, 0.2526573788767989, 0.54415418934869109, 1.1658399105072021],\n",
       " [2, 0.12147260895097084, 0.50331819823186141, 3.5825560092926025],\n",
       " [10, 0.022480804716648876, 0.79819264484112862, 3.6051509380340576],\n",
       " [[10, 10], 0.019568670749908444, 0.82554864717266552, 5.0517308712005615],\n",
       " [[5, 5, 5, 5], 0.067132351117601616, 0.61076074333288144, 6.928965330123901],\n",
       " [[2, 2, 2, 2, 2], 0.13697709522998142, 0.5160169578118623, 7.612773895263672]]"
      ]
     },
     "execution_count": 20,
     "metadata": {},
     "output_type": "execute_result"
    }
   ],
   "source": [
    "summarize(results)"
   ]
  },
  {
   "cell_type": "code",
   "execution_count": 21,
   "metadata": {},
   "outputs": [
    {
     "name": "stdout",
     "output_type": "stream",
     "text": [
      "[2, [0.12024067138230482, 0.086259862596962014, 0.061181711581133884, 0.22982946131355445, 0.12754808965131745, 0.060727832214118545, 0.17881618395663867, 0.24956668990824474, 0.23833689931687185, 0.062098607344274796, 0.058238289727379274, 0.25801299162928404, 0.15265282829078775, 0.14419923471426579, 0.23129349576179067, 0.054751701577362435, 0.16416078707212592, 0.058527511098640204, 0.043119709389616977, 0.10447470975702604, 0.067184237204192046, 0.26172671430823835, 0.091049855683622088, 0.23160330762042886, 0.040196661145929943, 0.021856675567521328, 0.060218505904875617, 0.11578197478449767, 0.13465560227194612, 0.072937441219354041, 0.03396575934764532, 0.077550244719711364, 0.08853801758993772, 0.25269805225254316, 0.13099719972750865, 0.235854883134785, 0.092675669326978349, 0.1353251934257749, 0.22516406767555264, 0.0065868741845220248, 0.079100660502082226, 0.262108313264797, 0.06578529824207878, 0.13431351475590173, 0.075579414893382907, 0.1379752349324237, 0.028209215515806307, 0.056637382783232423, 0.1174883840643044, 0.055828823215266409], [0.19853681967406181, 0.65856719072881487, 2.800389841059848, 0.37482909489586985, 0.18846592723732364, 0.35776469230243146, 0.57862070040683367, 0.28596345244358434, 0.48212931633397893, 0.69790978654570457, 0.53219363740125436, 0.11655952390653128, 0.55749755471048057, 0.58395582183312511, 0.36958098312004606, 0.3624994821288251, 0.24321608783375612, 0.52998875224618214, 0.36520234377477995, 0.30397423232752696, 0.41334967813210272, 0.16371268810533918, 1.1747692412783306, 0.72513665084950418, 0.42020764558021245, 0.53192048851961038, 0.43734447832666862, 0.21109922595081132, 0.086178896785420581, 0.63369215871058115, 0.41757028843073901, 0.29159029867479569, 0.30855310756194609, 0.40431961167272035, 0.53825407269958159, 0.38323931506230724, 2.0993346785435305, 0.52666008804473152, 0.58234667001663043, 0.58629463684412797, 0.43276415964063092, 0.19114516130519257, 0.41655366221664142, 0.4929669778583996, 0.42547318105550597, 0.041347719110927592, 0.36436058762946094, 0.53928765190761585, 0.20550065386597727, 0.53309099630206491], 3.5825560092926025]\n"
     ]
    },
    {
     "ename": "TypeError",
     "evalue": "unsupported format string passed to list.__format__",
     "output_type": "error",
     "traceback": [
      "\u001b[0;31m---------------------------------------------------------------------------\u001b[0m",
      "\u001b[0;31mTypeError\u001b[0m                                 Traceback (most recent call last)",
      "\u001b[0;32m<ipython-input-21-b64fd0aae8ca>\u001b[0m in \u001b[0;36m<module>\u001b[0;34m()\u001b[0m\n\u001b[1;32m      1\u001b[0m \u001b[0mbest\u001b[0m \u001b[0;34m=\u001b[0m \u001b[0mbestNetwork\u001b[0m\u001b[0;34m(\u001b[0m\u001b[0mresults\u001b[0m\u001b[0;34m)\u001b[0m\u001b[0;34m\u001b[0m\u001b[0m\n\u001b[1;32m      2\u001b[0m \u001b[0mprint\u001b[0m\u001b[0;34m(\u001b[0m\u001b[0mbest\u001b[0m\u001b[0;34m)\u001b[0m\u001b[0;34m\u001b[0m\u001b[0m\n\u001b[0;32m----> 3\u001b[0;31m \u001b[0mprint\u001b[0m\u001b[0;34m(\u001b[0m\u001b[0;34m'Hidden Layers {} Average RMSE Training {:.2f} Testing {:.2f} Took {:.2f} seconds'\u001b[0m\u001b[0;34m.\u001b[0m\u001b[0mformat\u001b[0m\u001b[0;34m(\u001b[0m\u001b[0;34m*\u001b[0m\u001b[0mbest\u001b[0m\u001b[0;34m)\u001b[0m\u001b[0;34m)\u001b[0m\u001b[0;34m\u001b[0m\u001b[0m\n\u001b[0m",
      "\u001b[0;31mTypeError\u001b[0m: unsupported format string passed to list.__format__"
     ]
    }
   ],
   "source": [
    "best = bestNetwork(results)\n",
    "print(best)\n",
    "print('Hidden Layers {} Average RMSE Training {:.2f} Testing {:.2f} Took {:.2f} seconds'.format(*best))"
   ]
  },
  {
   "cell_type": "markdown",
   "metadata": {},
   "source": [
    "Hummm...neural nets with no hidden layers did best on this simple data set.  Why?  Remember what \"best\" means."
   ]
  },
  {
   "cell_type": "markdown",
   "metadata": {},
   "source": [
    "## Data for Regression Experiment\n",
    "\n",
    "From the UCI Machine Learning Repository, download the [Appliances energy prediction](http://archive.ics.uci.edu/ml/datasets/Appliances+energy+prediction) data.  You can do this by visiting the Data Folder for this data set, or just do this:\n",
    "\n",
    "     !wget http://archive.ics.uci.edu/ml/machine-learning-databases/00374/energydata_complete.csv\n",
    "\n"
   ]
  },
  {
   "cell_type": "markdown",
   "metadata": {},
   "source": [
    "Read this data into python.  One suggestion is to use the `loadtxt` function in the `numpy` package.  You may ignore the first column of each row which contains a data and time.  Also ignore the last two columns of random variables.  We will not use that in our modeling of this data.  You will also have to deal with the double quotes that surround every value in every field.  Read the first line of this file to get the names of the features.\n",
    "\n",
    "Once you have read this in correctly, you should see values like this:"
   ]
  },
  {
   "cell_type": "code",
   "execution_count": 22,
   "metadata": {},
   "outputs": [
    {
     "name": "stdout",
     "output_type": "stream",
     "text": [
      "['Appliances' 'lights' 'T1' 'RH_1' 'T2' 'RH_2' 'T3' 'RH_3' 'T4' 'RH_4' 'T5'\n",
      " 'RH_5' 'T6' 'RH_6' 'T7' 'RH_7' 'T8' 'RH_8' 'T9' 'RH_9' 'T_out'\n",
      " 'Press_mm_hg' 'RH_out' 'Windspeed' 'Visibility' 'Tdewpoint']\n",
      "[[0, 67.174429700388998, 67.111952339045558, 2.230187177658081], [1, 70.68616814140691, 69.340893043254283, 12.431812047958374], [2, 66.324983274863399, 66.551464012501086, 19.374364137649536], [3, 66.201099480421121, 66.037858768527087, 19.844250679016113], [4, 65.70445620425383, 66.43887387645276, 25.779573917388916], [5, 65.303329240749889, 65.123785649312993, 24.858672857284546], [[5, 5], 64.659219672618249, 65.607094157278539, 29.77015781402588], [[10, 10], 63.050590711496298, 64.171141753352629, 45.0111141204834], [[5, 5, 5], 64.813418946071721, 65.841237406456116, 41.00091004371643]]\n",
      "[[10, 10], 63.050590711496298, 64.171141753352629, 45.0111141204834]\n"
     ]
    }
   ],
   "source": [
    "import pandas as pd\n",
    "\n",
    "energydata = pd.read_csv(\"energydata_complete.csv\")\n",
    "energydata = energydata.drop([\"date\",\"rv1\",\"rv2\"], axis=1)\n",
    "\n",
    "names = energydata.columns.values\n",
    "print(names)\n",
    "\n",
    "Tenergy = energydata[[\"Appliances\",\"lights\"]].as_matrix()\n",
    "Xenergy = energydata.drop([\"Appliances\", \"lights\"], axis=1).as_matrix()\n",
    "\n",
    "# print(Tenergy.shape)\n",
    "# print(Xenergy.shape)\n",
    "results = trainNNs(Xenergy, Tenergy, 0.8, [0, 1, 2, 3, 4, 5, [5, 5], [10, 10], [5,5,5]], 10, 100)\n",
    "print(summarize(results))\n",
    "print(bestNetwork(summarize(results)))"
   ]
  },
  {
   "cell_type": "code",
   "execution_count": 23,
   "metadata": {
    "scrolled": true
   },
   "outputs": [
    {
     "data": {
      "text/plain": [
       "array(['Appliances', 'lights', 'T1', 'RH_1', 'T2', 'RH_2', 'T3', 'RH_3',\n",
       "       'T4', 'RH_4', 'T5', 'RH_5', 'T6', 'RH_6', 'T7', 'RH_7', 'T8',\n",
       "       'RH_8', 'T9', 'RH_9', 'T_out', 'Press_mm_hg', 'RH_out', 'Windspeed',\n",
       "       'Visibility', 'Tdewpoint'], dtype=object)"
      ]
     },
     "execution_count": 23,
     "metadata": {},
     "output_type": "execute_result"
    }
   ],
   "source": [
    "names"
   ]
  },
  {
   "cell_type": "code",
   "execution_count": 12,
   "metadata": {},
   "outputs": [
    {
     "data": {
      "text/plain": [
       "(19735, 26)"
      ]
     },
     "execution_count": 12,
     "metadata": {},
     "output_type": "execute_result"
    }
   ],
   "source": [
    "data.shape"
   ]
  },
  {
   "cell_type": "code",
   "execution_count": 13,
   "metadata": {
    "scrolled": true
   },
   "outputs": [
    {
     "data": {
      "text/plain": [
       "array([[  60.        ,   30.        ,   19.89      ,   47.59666667,\n",
       "          19.2       ,   44.79      ,   19.79      ,   44.73      ,\n",
       "          19.        ,   45.56666667,   17.16666667,   55.2       ,\n",
       "           7.02666667,   84.25666667,   17.2       ,   41.62666667,\n",
       "          18.2       ,   48.9       ,   17.03333333,   45.53      ,\n",
       "           6.6       ,  733.5       ,   92.        ,    7.        ,\n",
       "          63.        ,    5.3       ],\n",
       "       [  60.        ,   30.        ,   19.89      ,   46.69333333,\n",
       "          19.2       ,   44.7225    ,   19.79      ,   44.79      ,\n",
       "          19.        ,   45.9925    ,   17.16666667,   55.2       ,\n",
       "           6.83333333,   84.06333333,   17.2       ,   41.56      ,\n",
       "          18.2       ,   48.86333333,   17.06666667,   45.56      ,\n",
       "           6.48333333,  733.6       ,   92.        ,    6.66666667,\n",
       "          59.16666667,    5.2       ]])"
      ]
     },
     "execution_count": 13,
     "metadata": {},
     "output_type": "execute_result"
    }
   ],
   "source": [
    "data[:2,:]"
   ]
  },
  {
   "cell_type": "markdown",
   "metadata": {},
   "source": [
    "Use the first two columns, labelled `Appliances` and `lights` as the target variables, and the remaining 24 columns as the input features.  So"
   ]
  },
  {
   "cell_type": "code",
   "execution_count": 14,
   "metadata": {},
   "outputs": [
    {
     "data": {
      "text/plain": [
       "((19735, 24), (19735, 2))"
      ]
     },
     "execution_count": 14,
     "metadata": {},
     "output_type": "execute_result"
    }
   ],
   "source": [
    "Xenergy.shape, Tenergy.shape"
   ]
  },
  {
   "cell_type": "code",
   "execution_count": 15,
   "metadata": {},
   "outputs": [
    {
     "data": {
      "text/plain": [
       "['T1',\n",
       " 'RH_1',\n",
       " 'T2',\n",
       " 'RH_2',\n",
       " 'T3',\n",
       " 'RH_3',\n",
       " 'T4',\n",
       " 'RH_4',\n",
       " 'T5',\n",
       " 'RH_5',\n",
       " 'T6',\n",
       " 'RH_6',\n",
       " 'T7',\n",
       " 'RH_7',\n",
       " 'T8',\n",
       " 'RH_8',\n",
       " 'T9',\n",
       " 'RH_9',\n",
       " 'T_out',\n",
       " 'Press_mm_hg',\n",
       " 'RH_out',\n",
       " 'Windspeed',\n",
       " 'Visibility',\n",
       " 'Tdewpoint']"
      ]
     },
     "execution_count": 15,
     "metadata": {},
     "output_type": "execute_result"
    }
   ],
   "source": [
    "Xnames"
   ]
  },
  {
   "cell_type": "code",
   "execution_count": 16,
   "metadata": {},
   "outputs": [
    {
     "data": {
      "text/plain": [
       "['Appliances', 'lights']"
      ]
     },
     "execution_count": 16,
     "metadata": {},
     "output_type": "execute_result"
    }
   ],
   "source": [
    "Tnames"
   ]
  },
  {
   "cell_type": "markdown",
   "metadata": {},
   "source": [
    "Train several neural networks on all of this data for 100 iterations.  Plot the error trace (nnet.getErrorTrace()) to help you decide now many iterations might be needed.  100 may not be enough.  If for your larger networks the error is still decreasing after 100 iterations you should train all nets for more than 100 iterations.\n",
    "\n",
    "Now use your `trainNNs`, `summarize`, and `bestNetwork` functions on this data to investigate various network sizes."
   ]
  },
  {
   "cell_type": "code",
   "execution_count": 18,
   "metadata": {
    "collapsed": true
   },
   "outputs": [],
   "source": [
    "results = trainNNs(Xenergy, Tenergy, 0.8, [0, 5, [5, 5], [10, 10]], 10, 100)"
   ]
  },
  {
   "cell_type": "code",
   "execution_count": 19,
   "metadata": {},
   "outputs": [
    {
     "data": {
      "text/plain": [
       "[[0, 67.046960179422285, 67.644136371408763, 0.998682975769043],\n",
       " [5, 65.301632625880842, 66.328853488839485, 13.130361795425415],\n",
       " [[5, 5], 64.277382425810785, 66.416365860755761, 19.365249395370483],\n",
       " [[10, 10], 62.741905999268582, 64.979550044221469, 33.62221097946167]]"
      ]
     },
     "execution_count": 19,
     "metadata": {},
     "output_type": "execute_result"
    }
   ],
   "source": [
    "summarize(results)"
   ]
  },
  {
   "cell_type": "code",
   "execution_count": 20,
   "metadata": {},
   "outputs": [
    {
     "data": {
      "text/plain": [
       "[[10, 10], 62.741905999268582, 64.979550044221469, 33.62221097946167]"
      ]
     },
     "execution_count": 20,
     "metadata": {},
     "output_type": "execute_result"
    }
   ],
   "source": [
    "bestNetwork(summarize(results))"
   ]
  },
  {
   "cell_type": "markdown",
   "metadata": {},
   "source": [
    "Test at least 10 different hidden layer structures.  Larger numbers of layers and units may do the best on training data, but not on testing data. Why?\n",
    "\n",
    "Now train another network with your best hidden layer structure on 0.8 of the data and use the trained network on the testing data (the remaining 0.2 of the date).  As before use `ml.partition` to produce the training and testing sets.\n",
    "\n",
    "For the testing data, plot the predicted and actual `Appliances` energy use, and the predicted and actual `lights` energy use, in two separate plots.  Discuss what you see."
   ]
  },
  {
   "cell_type": "markdown",
   "metadata": {},
   "source": [
    "## Data for Classification Experiment\n",
    "\n",
    "From the UCI Machine Learning Repository, download the [Anuran Calls (MFCCs)](http://archive.ics.uci.edu/ml/datasets/Anuran+Calls+%28MFCCs%29) data.  You can do this by visiting the Data Folder for this data set, or just do this:\n",
    "\n",
    "     !wget 'http://archive.ics.uci.edu/ml/machine-learning-databases/00406/Anuran Calls (MFCCs).zip'\n",
    "     !unzip Anuran*zip\n",
    "     \n",
    "Read the data in the file `Frogs_MFCCs.csv` into python.  This will be a little tricky. Each line of the file is a sample of audio features plus three columns that label the sample by family, genus, and species. We will try to predict the species.  The tricky part is that the species is given as text.  We need to convert this to a target class, as an integer. The `numpy` function `unique` will come in handy here."
   ]
  },
  {
   "cell_type": "code",
   "execution_count": 26,
   "metadata": {},
   "outputs": [
    {
     "name": "stdout",
     "output_type": "stream",
     "text": [
      "['MFCCs_ 1' 'MFCCs_ 2' 'MFCCs_ 3' 'MFCCs_ 4' 'MFCCs_ 5' 'MFCCs_ 6'\n",
      " 'MFCCs_ 7' 'MFCCs_ 8' 'MFCCs_ 9' 'MFCCs_10' 'MFCCs_11' 'MFCCs_12'\n",
      " 'MFCCs_13' 'MFCCs_14' 'MFCCs_15' 'MFCCs_16' 'MFCCs_17' 'MFCCs_18'\n",
      " 'MFCCs_19' 'MFCCs_20' 'MFCCs_21' 'MFCCs_22' 'Family' 'Genus' 'Species'\n",
      " 'RecordID']\n",
      "(7195, 21)\n",
      "(7195, 1)\n",
      "[[ 0.1529363  -0.1055859   0.20072191  0.31720106  0.26076385  0.10094464\n",
      "  -0.1500626  -0.17112763  0.12467644  0.18865415 -0.07562172 -0.15643593\n",
      "   0.08224512  0.13575204 -0.02401665 -0.10835111 -0.07762252 -0.0095678\n",
      "   0.05768398  0.11868014  0.01403845]\n",
      " [ 0.17153426 -0.09897474  0.26842522  0.33867186  0.2683531   0.06083509\n",
      "  -0.22247464 -0.20769267  0.17088287  0.27095828 -0.09500394 -0.25434147\n",
      "   0.02278623  0.1633201   0.01202228 -0.09097401 -0.05650952 -0.03530336\n",
      "   0.02013996  0.08226299  0.02905574]]\n",
      "[[0]\n",
      " [0]]\n",
      "672 samples in class 0\n",
      "3478 samples in class 1\n",
      "542 samples in class 2\n",
      "310 samples in class 3\n",
      "472 samples in class 4\n",
      "1121 samples in class 5\n",
      "270 samples in class 6\n",
      "114 samples in class 7\n",
      "68 samples in class 8\n",
      "148 samples in class 9\n",
      "[[0, 0.51760683624117743, 0.6208812446329568, 1.911836862564087], [5, 0.64754936420483677, 0.6887023786203933, 3.645876884460449], [[5, 5], 0.70840514536785992, 0.84237246529574372, 4.797788858413696]]\n",
      "[0, 0.51760683624117743, 0.6208812446329568, 1.911836862564087]\n"
     ]
    }
   ],
   "source": [
    "frogdata = pd.read_csv(\"Frogs_MFCCs.csv\")\n",
    "print(frogdata.columns.values)\n",
    "\n",
    "speciesList = frogdata[\"Species\"]\n",
    "\n",
    "uniqueSpecies = np.unique(speciesList)\n",
    "\n",
    "speciesDict = dict(enumerate(uniqueSpecies))\n",
    "\n",
    "Tanuran = speciesList.replace(speciesDict.values(), speciesDict.keys()).as_matrix().reshape(-1,1)\n",
    "Xanuran = frogdata.drop([\"MFCCs_ 1\",\"Family\", \"Genus\", \"Species\", \"RecordID\"], axis=1).as_matrix()\n",
    "\n",
    "print(Xanuran.shape)\n",
    "print(Tanuran.shape)\n",
    "print(Xanuran[:2,:])\n",
    "print(Tanuran[:2])\n",
    "\n",
    "for i in range(10):\n",
    "    print('{} samples in class {}'.format(np.sum(Tanuran==i), i))\n",
    "\n",
    "results = trainNNs(Xanuran, Tanuran, 0.8, [0, 5, [5, 5]], 5, 100, classify=True)\n",
    "\n",
    "print(summarize(results))\n",
    "\n",
    "print(bestNetwork(summarize(results)))"
   ]
  },
  {
   "cell_type": "code",
   "execution_count": 21,
   "metadata": {},
   "outputs": [
    {
     "data": {
      "text/plain": [
       "((7195, 21), (7195, 1))"
      ]
     },
     "execution_count": 21,
     "metadata": {},
     "output_type": "execute_result"
    }
   ],
   "source": [
    "Xanuran.shape, Tanuran.shape"
   ]
  },
  {
   "cell_type": "code",
   "execution_count": 22,
   "metadata": {},
   "outputs": [
    {
     "data": {
      "text/plain": [
       "array([[ 0.1529363 , -0.1055859 ,  0.20072191,  0.31720106,  0.26076385,\n",
       "         0.10094464, -0.1500626 , -0.17112763,  0.12467644,  0.18865415,\n",
       "        -0.07562172, -0.15643593,  0.08224512,  0.13575204, -0.02401665,\n",
       "        -0.10835111, -0.07762252, -0.0095678 ,  0.05768398,  0.11868014,\n",
       "         0.01403845],\n",
       "       [ 0.17153426, -0.09897474,  0.26842522,  0.33867186,  0.2683531 ,\n",
       "         0.06083509, -0.22247464, -0.20769267,  0.17088287,  0.27095828,\n",
       "        -0.09500394, -0.25434147,  0.02278623,  0.1633201 ,  0.01202228,\n",
       "        -0.09097401, -0.05650952, -0.03530336,  0.02013996,  0.08226299,\n",
       "         0.02905574]])"
      ]
     },
     "execution_count": 22,
     "metadata": {},
     "output_type": "execute_result"
    }
   ],
   "source": [
    "Xanuran[:2,:]"
   ]
  },
  {
   "cell_type": "code",
   "execution_count": 23,
   "metadata": {},
   "outputs": [
    {
     "data": {
      "text/plain": [
       "array([[0],\n",
       "       [0]])"
      ]
     },
     "execution_count": 23,
     "metadata": {},
     "output_type": "execute_result"
    }
   ],
   "source": [
    "Tanuran[:2]"
   ]
  },
  {
   "cell_type": "code",
   "execution_count": 24,
   "metadata": {},
   "outputs": [
    {
     "name": "stdout",
     "output_type": "stream",
     "text": [
      "672 samples in class 0\n",
      "3478 samples in class 1\n",
      "542 samples in class 2\n",
      "310 samples in class 3\n",
      "472 samples in class 4\n",
      "1121 samples in class 5\n",
      "270 samples in class 6\n",
      "114 samples in class 7\n",
      "68 samples in class 8\n",
      "148 samples in class 9\n"
     ]
    }
   ],
   "source": [
    "for i in range(10):\n",
    "    print('{} samples in class {}'.format(np.sum(Tanuran==i), i))"
   ]
  },
  {
   "cell_type": "code",
   "execution_count": 25,
   "metadata": {
    "collapsed": true
   },
   "outputs": [],
   "source": [
    "results = trainNNs(Xanuran, Tanuran, 0.8, [0, 5, [5, 5]], 5, 100, classify=True)"
   ]
  },
  {
   "cell_type": "code",
   "execution_count": 26,
   "metadata": {},
   "outputs": [
    {
     "data": {
      "text/plain": [
       "[[0, 0.028179291174426684, 0.034885337039610845, 2.706338405609131],\n",
       " [5, 0.035267546907574707, 0.041000694927032663, 5.346082448959351],\n",
       " [[5, 5], 0.046699096594857534, 0.057956914523974987, 6.503756046295166]]"
      ]
     },
     "execution_count": 26,
     "metadata": {},
     "output_type": "execute_result"
    }
   ],
   "source": [
    "summarize(results)"
   ]
  },
  {
   "cell_type": "code",
   "execution_count": 27,
   "metadata": {},
   "outputs": [
    {
     "data": {
      "text/plain": [
       "[0, 0.028179291174426684, 0.034885337039610845, 2.706338405609131]"
      ]
     },
     "execution_count": 27,
     "metadata": {},
     "output_type": "execute_result"
    }
   ],
   "source": [
    "bestNetwork(summarize(results))"
   ]
  },
  {
   "cell_type": "markdown",
   "metadata": {},
   "source": [
    "Now do an investigation like you did for the regression data. \n",
    "\n",
    "Test at least 10 different hidden layer structures. Then train another network with your best hidden layer structure on 0.8 of the data and use the trained network on the testing data (the remaining 0.2 of the date). \n",
    "\n",
    "Plot the predicted and actual `Species` for the testing data as an integer.  Discuss what you see."
   ]
  },
  {
   "cell_type": "markdown",
   "metadata": {},
   "source": [
    "## Grading\n",
    "\n",
    "Download [A6grader.tar](http://www.cs.colostate.edu/~anderson/cs440/notebooks/A6grader.tar) and extract `A6grader.py` from it."
   ]
  },
  {
   "cell_type": "code",
   "execution_count": null,
   "metadata": {
    "collapsed": true,
    "scrolled": true
   },
   "outputs": [],
   "source": [
    "%run -i \"A6grader.py\""
   ]
  },
  {
   "cell_type": "markdown",
   "metadata": {},
   "source": [
    "## Check-in"
   ]
  },
  {
   "cell_type": "markdown",
   "metadata": {},
   "source": [
    "Do not include this section in your notebook.\n",
    "\n",
    "Name your notebook ```Lastname-A6.ipynb```.  So, for me it would be ```Anderson-A3.ipynb```.  Submit the file using the ```Assignment 3``` link on [Canvas](https://colostate.instructure.com/courses/41327)."
   ]
  },
  {
   "cell_type": "markdown",
   "metadata": {},
   "source": [
    "## Extra Credit\n",
    "\n",
    "  2. Repeat the above regression and classification experiments with a second regression data set and a second classification data set.\n",
    "  \n",
    "  2. Since you are collecting the performance of all repetitions for each network structure, you can calculate a confidence interval about the mean, to help judge significant differences. Do this for either the regression or the classification data and plot the mean test performance with confidence intervals for each network structure tested.  Discuss the statistical significance of the differences among the means.  One website I found to help with this is the site [Correct way to obtain confidence interval with scipy](https://stackoverflow.com/questions/28242593/correct-way-to-obtain-confidence-interval-with-scipy).\n",
    "  \n"
   ]
  }
 ],
 "metadata": {
  "kernelspec": {
   "display_name": "Python 3",
   "language": "python",
   "name": "python3"
  },
  "language_info": {
   "codemirror_mode": {
    "name": "ipython",
    "version": 3
   },
   "file_extension": ".py",
   "mimetype": "text/x-python",
   "name": "python",
   "nbconvert_exporter": "python",
   "pygments_lexer": "ipython3",
   "version": "3.6.3"
  },
  "toc": {
   "nav_menu": {},
   "number_sections": true,
   "sideBar": true,
   "skip_h1_title": false,
   "toc_cell": false,
   "toc_position": {},
   "toc_section_display": "block",
   "toc_window_display": false
  }
 },
 "nbformat": 4,
 "nbformat_minor": 1
}
