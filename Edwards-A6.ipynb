{
 "cells": [
  {
   "cell_type": "markdown",
   "metadata": {},
   "source": [
    "# Assignment 6: Neural Networks"
   ]
  },
  {
   "cell_type": "markdown",
   "metadata": {},
   "source": [
    "*David Edwards*"
   ]
  },
  {
   "cell_type": "markdown",
   "metadata": {},
   "source": [
    "## Overview"
   ]
  },
  {
   "cell_type": "markdown",
   "metadata": {},
   "source": [
    "You will write and apply code that trains neural networks of various numbers of hidden layers and units in each hidden layer and returns results as specified below.  You will do this once for a regression problem and once for a classification problem. "
   ]
  },
  {
   "cell_type": "markdown",
   "metadata": {},
   "source": [
    "## Required Code"
   ]
  },
  {
   "cell_type": "code",
   "execution_count": 1,
   "metadata": {},
   "outputs": [],
   "source": [
    "# global variable to return errors for plotting, without breaking the return values expected by auto-grader\n",
    "resultErrors = []\n",
    "\n",
    "def trainNNs(X, T, trainFraction, hiddenLayerStructures, numberRepetitions, numberIterations, classify=False):\n",
    "    \"\"\"\n",
    "    Trains neural networks repeatedly.\n",
    "    :param X: Data to partition and train\n",
    "    :param T: Target values\n",
    "    :param trainFraction: What percent of the data should be used for training\n",
    "    :param hiddenLayerStructures: Number of hidden layer structures while training\n",
    "    :param numberRepetitions: Number of times to run train\n",
    "    :param numberIterations: Iterations within Neural Network\n",
    "    :param classify: Classification or Regression\n",
    "    :return: List containing the hidden layer structure, the training error and testing error, and the elapsed time.\n",
    "    \"\"\"\n",
    "    import numpy as np\n",
    "    import neuralnetworks as nn\n",
    "    import time\n",
    "    import mlutils as ml\n",
    "\n",
    "    results = []\n",
    "    global resultErrors\n",
    "    resultErrors = []\n",
    "\n",
    "    # debugging\n",
    "    verbose = True\n",
    "\n",
    "    for structure in hiddenLayerStructures:\n",
    "        trainList = []\n",
    "        testList = []\n",
    "        t0 = time.time()\n",
    "        for i in range(numberRepetitions):\n",
    "            Xtrain, Ttrain, Xtest, Ttest = ml.partition(X, T, (trainFraction, 1 - trainFraction), classification=classify)\n",
    "            if classify:\n",
    "                nnet = nn.NeuralNetworkClassifier(X.shape[1],structure,len(np.unique(T)))\n",
    "            else:\n",
    "                nnet = nn.NeuralNetwork(X.shape[1],structure,T.shape[1])\n",
    "\n",
    "            nnet.train(Xtrain, Ttrain, numberIterations)\n",
    "\n",
    "            Ytrain = nnet.use(Xtrain)\n",
    "\n",
    "            Ytest = nnet.use(Xtest)\n",
    "\n",
    "            trainList.append(np.sqrt(np.mean((Ytrain - Ttrain ) ** 2)))\n",
    "            testList.append(np.sqrt(np.mean((Ytest - Ttest) ** 2)))\n",
    "\n",
    "        timeTaken = time.time() - t0\n",
    "        resultErrors.append([structure, nnet.getErrorTrace()])\n",
    "        results.append([structure, trainList, testList, timeTaken])\n",
    "    return results"
   ]
  },
  {
   "cell_type": "code",
   "execution_count": 2,
   "metadata": {},
   "outputs": [],
   "source": [
    "def summarize(results):\n",
    "    \"\"\"\n",
    "    Summarizes the return data from trainNNs\n",
    "    :param results: List containing the hidden layer structure, the training error and testing error, and the elapsed time.\n",
    "    :return: List returning the mean errors for the iterations within trainNNs\n",
    "    \"\"\"\n",
    "    import numpy as np\n",
    "    summary = []\n",
    "    for item in results:\n",
    "        summary.append([item[0], np.mean(item[1]), np.mean(item[2]), item[3]])\n",
    "\n",
    "    return summary\n"
   ]
  },
  {
   "cell_type": "code",
   "execution_count": 3,
   "metadata": {},
   "outputs": [],
   "source": [
    "def bestNetwork(summary):\n",
    "    \"\"\"\n",
    "    Returns the best hidden structure/error/time\n",
    "    :param summary: Summary data from summarize\n",
    "    :return: Best hidden structure/error/time from the list.\n",
    "    \"\"\"\n",
    "    return min(summary, key = lambda x: x[2])"
   ]
  },
  {
   "cell_type": "markdown",
   "metadata": {},
   "source": [
    "## Regression Experiment\n",
    "\n",
    "This data assumes that energydata_complete.csv exists in the same directory as the notebook.\n",
    "\n",
    "I used pandas to import the data as I've used it for a home project (https://github.com/doofusdavid/speedtestgraph) and found that it makes the CSV import easy, and assigns human-readable names to columns, as long as the columns have names.\n",
    "\n",
    "In order to get the appropriate T and X, I keep the two columns, \"Appliances\" and \"Lights\" for T, and drop those columns, and keep all the rest of X.\n",
    "\n"
   ]
  },
  {
   "cell_type": "code",
   "execution_count": 5,
   "metadata": {},
   "outputs": [
    {
     "name": "stdout",
     "output_type": "stream",
     "text": [
      "['Appliances' 'lights' 'T1' 'RH_1' 'T2' 'RH_2' 'T3' 'RH_3' 'T4' 'RH_4' 'T5'\n",
      " 'RH_5' 'T6' 'RH_6' 'T7' 'RH_7' 'T8' 'RH_8' 'T9' 'RH_9' 'T_out'\n",
      " 'Press_mm_hg' 'RH_out' 'Windspeed' 'Visibility' 'Tdewpoint']\n",
      "(19735, 2)\n",
      "(19735, 24)\n",
      "[[0, 67.036243340830296, 67.683642575512479, 2.388540029525757], [1, 70.527081743388536, 69.477695660897169, 11.617201328277588], [2, 66.096559909227707, 67.431491413728892, 21.334362030029297], [3, 66.024109665381687, 65.954195567926362, 22.006477117538452], [4, 65.529275602943585, 65.710161899520259, 23.91888999938965], [5, 65.101867620726097, 65.415606798500079, 25.60195803642273], [[5, 5], 64.777410397447582, 65.947433174821668, 32.31341791152954], [[10, 10], 63.284575166078795, 64.321428206974687, 41.53078103065491], [[5, 5, 5], 64.947067892022716, 65.966163514793138, 35.963382959365845]]\n",
      "[[10, 10], 63.284575166078795, 64.321428206974687, 41.53078103065491]\n"
     ]
    }
   ],
   "source": [
    "import pandas as pd\n",
    "\n",
    "energydata = pd.read_csv(\"energydata_complete.csv\")\n",
    "energydata = energydata.drop([\"date\",\"rv1\",\"rv2\"], axis=1)\n",
    "\n",
    "print(energydata.columns.values)\n",
    "\n",
    "\n",
    "Tnames = energydata[[\"Appliances\",\"lights\"]].columns.values\n",
    "Tenergy = energydata[[\"Appliances\",\"lights\"]].as_matrix()\n",
    "#print(Tenergy)\n",
    "Xnames = energydata.drop([\"Appliances\", \"lights\"], axis=1).columns.values\n",
    "Xenergy = energydata.drop([\"Appliances\", \"lights\"], axis=1).as_matrix()\n",
    "\n",
    "print(Tenergy.shape)\n",
    "print(Xenergy.shape)\n",
    "results = trainNNs(Xenergy, Tenergy, 0.8, [0, 1, 2, 3, 4, 5, [5, 5], [10, 10], [5,5,5]], 10, 100)\n",
    "results = trainNNs(Xenergy, Tenergy, 0.8, [[10, 10]], 10, 1000)\n",
    "#results, resultErrors = trainNNs(Xenergy, Tenergy, 0.8, [4], 10, 100)\n",
    "print(summarize(results))\n",
    "print(bestNetwork(summarize(results)))\n",
    "\n"
   ]
  },
  {
   "cell_type": "code",
   "execution_count": 6,
   "metadata": {},
   "outputs": [
    {
     "name": "stdout",
     "output_type": "stream",
     "text": [
      "9\n"
     ]
    },
    {
     "data": {
      "image/png": "[encoded data removed]",
      "text/plain": [
       "<matplotlib.figure.Figure at 0x10e1d6470>"
      ]
     },
     "metadata": {},
     "output_type": "display_data"
    }
   ],
   "source": [
    "import matplotlib.pyplot as plt\n",
    "%matplotlib inline\n",
    "print(len(resultErrors))\n",
    "\n",
    "for i in range(len(resultErrors)):\n",
    "    plt.plot(resultErrors[i][1], label=resultErrors[i][0])\n",
    "    \n",
    "plt.legend()\n",
    "plt.show()\n"
   ]
  },
  {
   "cell_type": "markdown",
   "metadata": {},
   "source": [
    "In this test, as with the one following, the 10,10 produced the most rapidly dropping test values.  I decided to try it with more iterations."
   ]
  },
  {
   "cell_type": "code",
   "execution_count": 29,
   "metadata": {},
   "outputs": [],
   "source": [
    "results = trainNNs(Xenergy, Tenergy, 0.8, [[10, 10]], 10, 500)"
   ]
  },
  {
   "cell_type": "code",
   "execution_count": 30,
   "metadata": {},
   "outputs": [
    {
     "data": {
      "text/plain": [
       "[[[10, 10], 58.735652171831831, 63.14705005989557, 212.65679693222046]]"
      ]
     },
     "execution_count": 30,
     "metadata": {},
     "output_type": "execute_result"
    }
   ],
   "source": [
    "summarize(results)"
   ]
  },
  {
   "cell_type": "code",
   "execution_count": 31,
   "metadata": {},
   "outputs": [
    {
     "data": {
      "text/plain": [
       "[[10, 10], 58.735652171831831, 63.14705005989557, 212.65679693222046]"
      ]
     },
     "execution_count": 31,
     "metadata": {},
     "output_type": "execute_result"
    }
   ],
   "source": [
    "bestNetwork(summarize(results))"
   ]
  },
  {
   "cell_type": "code",
   "execution_count": 32,
   "metadata": {},
   "outputs": [],
   "source": [
    "import matplotlib.pyplot as plt\n",
    "%matplotlib inline"
   ]
  },
  {
   "cell_type": "code",
   "execution_count": 33,
   "metadata": {},
   "outputs": [
    {
     "data": {
      "image/png": "[encoded data removed]",
      "text/plain": [
       "<matplotlib.figure.Figure at 0x110af23c8>"
      ]
     },
     "metadata": {},
     "output_type": "display_data"
    }
   ],
   "source": [
    "for i in range(len(resultErrors)):\n",
    "    plt.plot(resultErrors[i][1], label=resultErrors[i][0])\n",
    "    \n",
    "plt.legend()\n",
    "plt.show()\n"
   ]
  },
  {
   "cell_type": "markdown",
   "metadata": {},
   "source": [
    "In this case, the progression continues to descend over 500 iterations.  It looks like it would never reach or approach zero, but more definitely helps in this case."
   ]
  },
  {
   "cell_type": "markdown",
   "metadata": {},
   "source": [
    "## Classification Experiment\n",
    "\n",
    "This code depends on the file `Frogs_MFCCs.csv` existing in the directory.  \n",
    "\n",
    "Like the Regression experiment, I used pandas to read in the data, and remove the unwanted fields from the data.\n",
    "\n",
    "I created the indexes for the T data by getting the unique values of the speicesList, then creating a dictionary of the species, and the index of it.  Then, I did a pandas.replace, replacing the species value with the index from the database.  Then, I reshaped them to make it a 2 dimensional array."
   ]
  },
  {
   "cell_type": "code",
   "execution_count": 15,
   "metadata": {},
   "outputs": [
    {
     "name": "stdout",
     "output_type": "stream",
     "text": [
      "['MFCCs_ 1' 'MFCCs_ 2' 'MFCCs_ 3' 'MFCCs_ 4' 'MFCCs_ 5' 'MFCCs_ 6'\n",
      " 'MFCCs_ 7' 'MFCCs_ 8' 'MFCCs_ 9' 'MFCCs_10' 'MFCCs_11' 'MFCCs_12'\n",
      " 'MFCCs_13' 'MFCCs_14' 'MFCCs_15' 'MFCCs_16' 'MFCCs_17' 'MFCCs_18'\n",
      " 'MFCCs_19' 'MFCCs_20' 'MFCCs_21' 'MFCCs_22' 'Family' 'Genus' 'Species'\n",
      " 'RecordID']\n",
      "(7195, 21)\n",
      "(7195, 1)\n",
      "[[ 0.15 -0.11  0.2   0.32  0.26  0.1  -0.15 -0.17  0.12  0.19 -0.08 -0.16\n",
      "   0.08  0.14 -0.02 -0.11 -0.08 -0.01  0.06  0.12  0.01]\n",
      " [ 0.17 -0.1   0.27  0.34  0.27  0.06 -0.22 -0.21  0.17  0.27 -0.1  -0.25\n",
      "   0.02  0.16  0.01 -0.09 -0.06 -0.04  0.02  0.08  0.03]]\n",
      "[[0]\n",
      " [0]]\n",
      "672 samples in class 0\n",
      "3478 samples in class 1\n",
      "542 samples in class 2\n",
      "310 samples in class 3\n",
      "472 samples in class 4\n",
      "1121 samples in class 5\n",
      "270 samples in class 6\n",
      "114 samples in class 7\n",
      "68 samples in class 8\n",
      "148 samples in class 9\n",
      "[[0, 0.54220990127993152, 0.59683525197636533, 1.8096199035644531], [5, 0.61788331931307994, 0.74431489675743556, 3.562213182449341], [[5, 5], 0.67253624462640116, 0.77009485467208427, 4.681782007217407]]\n",
      "[0, 0.54220990127993152, 0.59683525197636533, 1.8096199035644531]\n"
     ]
    }
   ],
   "source": [
    "import pandas as pd\n",
    "import numpy as np\n",
    "\n",
    "frogdata = pd.read_csv(\"Frogs_MFCCs.csv\")\n",
    "print(frogdata.columns.values)\n",
    "\n",
    "speciesList = frogdata[\"Species\"]\n",
    "\n",
    "uniqueSpecies = np.unique(speciesList)\n",
    "\n",
    "speciesDict = dict(enumerate(uniqueSpecies))\n",
    "\n",
    "Tanuran = speciesList.replace(speciesDict.values(), speciesDict.keys()).as_matrix().reshape(-1,1)\n",
    "Xanuran = frogdata.drop([\"MFCCs_ 1\",\"Family\", \"Genus\", \"Species\", \"RecordID\"], axis=1).as_matrix()\n",
    "\n",
    "print(Xanuran.shape)\n",
    "print(Tanuran.shape)\n",
    "print(Xanuran[:2,:])\n",
    "print(Tanuran[:2])\n",
    "\n",
    "for i in range(10):\n",
    "    print('{} samples in class {}'.format(np.sum(Tanuran==i), i))\n",
    "\n",
    "results = trainNNs(Xanuran, Tanuran, 0.8, [0, 5, [5, 5]], 5, 100, classify=True)\n",
    "\n",
    "print(summarize(results))\n",
    "\n",
    "print(bestNetwork(summarize(results)))"
   ]
  },
  {
   "cell_type": "code",
   "execution_count": 16,
   "metadata": {},
   "outputs": [
    {
     "data": {
      "text/plain": [
       "((7195, 21), (7195, 1))"
      ]
     },
     "execution_count": 16,
     "metadata": {},
     "output_type": "execute_result"
    }
   ],
   "source": [
    "Xanuran.shape, Tanuran.shape"
   ]
  },
  {
   "cell_type": "code",
   "execution_count": 17,
   "metadata": {},
   "outputs": [
    {
     "data": {
      "text/plain": [
       "array([[ 0.15, -0.11,  0.2 ,  0.32,  0.26,  0.1 , -0.15, -0.17,  0.12,\n",
       "         0.19, -0.08, -0.16,  0.08,  0.14, -0.02, -0.11, -0.08, -0.01,\n",
       "         0.06,  0.12,  0.01],\n",
       "       [ 0.17, -0.1 ,  0.27,  0.34,  0.27,  0.06, -0.22, -0.21,  0.17,\n",
       "         0.27, -0.1 , -0.25,  0.02,  0.16,  0.01, -0.09, -0.06, -0.04,\n",
       "         0.02,  0.08,  0.03]])"
      ]
     },
     "execution_count": 17,
     "metadata": {},
     "output_type": "execute_result"
    }
   ],
   "source": [
    "Xanuran[:2,:]"
   ]
  },
  {
   "cell_type": "code",
   "execution_count": 23,
   "metadata": {},
   "outputs": [
    {
     "data": {
      "text/plain": [
       "array([[0],\n",
       "       [0]])"
      ]
     },
     "execution_count": 23,
     "metadata": {},
     "output_type": "execute_result"
    }
   ],
   "source": [
    "Tanuran[:2]"
   ]
  },
  {
   "cell_type": "code",
   "execution_count": 24,
   "metadata": {},
   "outputs": [
    {
     "name": "stdout",
     "output_type": "stream",
     "text": [
      "672 samples in class 0\n",
      "3478 samples in class 1\n",
      "542 samples in class 2\n",
      "310 samples in class 3\n",
      "472 samples in class 4\n",
      "1121 samples in class 5\n",
      "270 samples in class 6\n",
      "114 samples in class 7\n",
      "68 samples in class 8\n",
      "148 samples in class 9\n"
     ]
    }
   ],
   "source": [
    "for i in range(10):\n",
    "    print('{} samples in class {}'.format(np.sum(Tanuran==i), i))"
   ]
  },
  {
   "cell_type": "code",
   "execution_count": 25,
   "metadata": {
    "collapsed": true
   },
   "outputs": [],
   "source": [
    "results = trainNNs(Xanuran, Tanuran, 0.8, [0, 5, [5, 5]], 5, 100, classify=True)"
   ]
  },
  {
   "cell_type": "code",
   "execution_count": 26,
   "metadata": {},
   "outputs": [
    {
     "data": {
      "text/plain": [
       "[[0, 0.028179291174426684, 0.034885337039610845, 2.706338405609131],\n",
       " [5, 0.035267546907574707, 0.041000694927032663, 5.346082448959351],\n",
       " [[5, 5], 0.046699096594857534, 0.057956914523974987, 6.503756046295166]]"
      ]
     },
     "execution_count": 26,
     "metadata": {},
     "output_type": "execute_result"
    }
   ],
   "source": [
    "summarize(results)"
   ]
  },
  {
   "cell_type": "code",
   "execution_count": 27,
   "metadata": {},
   "outputs": [
    {
     "data": {
      "text/plain": [
       "[0, 0.028179291174426684, 0.034885337039610845, 2.706338405609131]"
      ]
     },
     "execution_count": 27,
     "metadata": {},
     "output_type": "execute_result"
    }
   ],
   "source": [
    "bestNetwork(summarize(results))"
   ]
  },
  {
   "cell_type": "code",
   "execution_count": 18,
   "metadata": {},
   "outputs": [
    {
     "data": {
      "image/png": "[encoded data removed]",
      "text/plain": [
       "<matplotlib.figure.Figure at 0x110b01630>"
      ]
     },
     "metadata": {},
     "output_type": "display_data"
    }
   ],
   "source": [
    "for i in range(len(resultErrors)):\n",
    "    plt.plot(resultErrors[i][1], label=resultErrors[i][0])\n",
    "    \n",
    "plt.legend()\n",
    "plt.show()"
   ]
  },
  {
   "cell_type": "markdown",
   "metadata": {},
   "source": [
    "For this case, 0 hidden layers drops the fastest"
   ]
  },
  {
   "cell_type": "code",
   "execution_count": 19,
   "metadata": {},
   "outputs": [],
   "source": [
    "results = trainNNs(Xanuran, Tanuran, 0.8, [1, 2, 3, 4, 5, 10, [5, 5], [10, 10], [5, 5, 5]], 5, 100, classify=True)"
   ]
  },
  {
   "cell_type": "code",
   "execution_count": 21,
   "metadata": {},
   "outputs": [
    {
     "data": {
      "text/plain": [
       "[10, 0.26942676584823744, 0.57605549663713584, 4.584028959274292]"
      ]
     },
     "execution_count": 21,
     "metadata": {},
     "output_type": "execute_result"
    }
   ],
   "source": [
    "bestNetwork(summarize(results))"
   ]
  },
  {
   "cell_type": "code",
   "execution_count": 20,
   "metadata": {},
   "outputs": [
    {
     "data": {
      "image/png": "[encoded data removed]",
      "text/plain": [
       "<matplotlib.figure.Figure at 0x110b15ba8>"
      ]
     },
     "metadata": {},
     "output_type": "display_data"
    }
   ],
   "source": [
    "for i in range(len(resultErrors)):\n",
    "    plt.plot(resultErrors[i][1], label=resultErrors[i][0])\n",
    "    \n",
    "plt.legend()\n",
    "plt.show()"
   ]
  },
  {
   "cell_type": "markdown",
   "metadata": {},
   "source": [
    "In this case, the single hidden layer of 10 seems to have the best results.  "
   ]
  },
  {
   "cell_type": "markdown",
   "metadata": {},
   "source": [
    "## Grading\n",
    "\n",
    "Download [A6grader.tar](http://www.cs.colostate.edu/~anderson/cs440/notebooks/A6grader.tar) and extract `A6grader.py` from it."
   ]
  },
  {
   "cell_type": "code",
   "execution_count": 4,
   "metadata": {
    "scrolled": true
   },
   "outputs": [
    {
     "name": "stdout",
     "output_type": "stream",
     "text": [
      "\n",
      "Testing summarize([[[1,1], [1.2, 1.3, 1.4], [2.2, 2.3, 2.4], 0.5], [[2,2,2], [4.4, 4.3, 4.2], [6.5, 6.4, 6.3], 0.6]])\n",
      "\n",
      "--- 10/10 points. Correctly returned [[[1, 1], 1.3, 2.3000000000000003, 0.5], [[2, 2, 2], 4.2999999999999998, 6.3999999999999995, 0.6]]\n",
      "\n",
      "Testing bestNetwork([[[1, 1], 1.3, 2.3, 0.5], [[2, 2, 2], 4.3, 1.3, 0.6]])\n",
      "\n",
      "--- 10/10 points. Correctly returned [[2, 2, 2], 4.3, 1.3, 0.6]\n",
      "\n",
      "X = np.random.uniform(-1, 1, (100, 3))\n",
      "T = np.hstack(((X**2 - 0.2*X**3).sum(axis=1,keepdims=True),\n",
      "               (np.sin(X)).sum(axis=1,keepdims=True)))\n",
      "result = trainNNs(X, T, 0.7, [0, 5, 10, [20, 20]], 10, 100, False)\n",
      "\n",
      "--- 20/20 points. Correct.\n",
      "\n",
      "Testing bestNetwork(summarize(result))\n",
      "\n",
      "--- 20/20 points. You correctly found that network [20, 20] is best.\n",
      "\n",
      "A6 Execution Grade is 60/60\n",
      "\n",
      "======================= The regression data set =======================\n",
      "\n",
      "--- _/5 points. Read the data in energydata_complete.csv into variables Xenergy and Tenergy.\n",
      "\n",
      "--- _/5 points. Train some networks by calling the NeuralNetwork constructor and train method and plot the error trace to help you decide now many iterations might be needed.\n",
      "\n",
      "--- _/5 points. Try at least 10 different hidden layer structures using trainNNs.\n",
      "\n",
      "--- _/5 points. Train another network with your best hidden layer structure on 0.8 of the data and test it on remaining 0.2 of the data. Plot the predicted and actual Appliances energy use, and the predicted and actual lights energy use, in two separate plots. Discuss what you see.\n",
      "\n",
      "======================= Classification data set =======================\n",
      "\n",
      "--- _/5 points. Read the data in Frogs_MFCCs.csv into variables Xanuran and Tanuran.\n",
      "\n",
      "--- _/5 points. Train some networks by calling the NeuralNetwork constructor and train method and plot the error trace to help you decide now many iterations might be needed.\n",
      "\n",
      "--- _/5 points. Try at least 10 different hidden layer structures using trainNNs.\n",
      "\n",
      "--- _/5 points. Train another network with your best hidden layer structure on 0.8 of the data and test it on remaining 0.2 of the data. Plot the predicted and actual Appliances energy use, and the predicted and actual lights energy use, in two separate plots. Discuss what you see.\n",
      "\n",
      "A6 Notebook Grade is __/40\n",
      "\n",
      "A6 FINAL GRADE is __/100\n"
     ]
    }
   ],
   "source": [
    "%run -i \"A6grader.py\""
   ]
  }
 ],
 "metadata": {
  "kernelspec": {
   "display_name": "Python 3",
   "language": "python",
   "name": "python3"
  },
  "language_info": {
   "codemirror_mode": {
    "name": "ipython",
    "version": 3
   },
   "file_extension": ".py",
   "mimetype": "text/x-python",
   "name": "python",
   "nbconvert_exporter": "python",
   "pygments_lexer": "ipython3",
   "version": "3.6.3"
  },
  "toc": {
   "nav_menu": {},
   "number_sections": true,
   "sideBar": true,
   "skip_h1_title": false,
   "toc_cell": false,
   "toc_position": {},
   "toc_section_display": "block",
   "toc_window_display": false
  }
 },
 "nbformat": 4,
 "nbformat_minor": 1
}
